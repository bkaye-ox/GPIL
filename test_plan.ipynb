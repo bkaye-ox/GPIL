{
 "cells": [
  {
   "cell_type": "code",
   "execution_count": 1,
   "metadata": {},
   "outputs": [],
   "source": [
    "from nfoursid.kalman import Kalman\n",
    "from nfoursid.nfoursid import NFourSID\n",
    "from nfoursid.state_space import StateSpace"
   ]
  },
  {
   "cell_type": "code",
   "execution_count": 2,
   "metadata": {},
   "outputs": [],
   "source": [
    "import numpy as np\n",
    "import matplotlib.pyplot as plt"
   ]
  },
  {
   "cell_type": "code",
   "execution_count": 3,
   "metadata": {},
   "outputs": [],
   "source": [
    "NUM_TRAINING_DATAPOINTS = 1000  # create a training-set by simulating a state-space model with this many datapoints\n",
    "NUM_TEST_DATAPOINTS = 20  # same for the test-set\n",
    "INPUT_DIM = 3\n",
    "OUTPUT_DIM = 2\n",
    "INTERNAL_STATE_DIM = 4  # actual order of the state-space model in the training- and test-set\n",
    "NOISE_AMPLITUDE = .1  # add noise to the training- and test-set\n",
    "FIGSIZE = 8\n"
   ]
  },
  {
   "cell_type": "code",
   "execution_count": 4,
   "metadata": {},
   "outputs": [],
   "source": [
    "A = np.array([\n",
    "    [1,  .01,    0,   0],\n",
    "    [0,    1,  .01,   0],\n",
    "    [0,    0,    1, .02],\n",
    "    [0, -.01,    0,   1],\n",
    "]) / 1.01\n",
    "B = np.array([\n",
    "    [1, 0, 0],\n",
    "    [0, 1, 0],\n",
    "    [0, 0, 1],\n",
    "    [0, 1, 1],\n",
    "]\n",
    ") / 3\n",
    "C = np.array([\n",
    "    [1, 0, 1,  1],\n",
    "    [0, 0, 1, -1],\n",
    "])\n",
    "D = np.array([\n",
    "    [1, 0, 1],\n",
    "    [0, 1, 0]\n",
    "]) / 10\n"
   ]
  },
  {
   "cell_type": "code",
   "execution_count": 5,
   "metadata": {},
   "outputs": [],
   "source": [
    "\n",
    "state_space = StateSpace(A, B, C, D)\n",
    "for _ in range(NUM_TRAINING_DATAPOINTS):\n",
    "    input_state = np.random.standard_normal((INPUT_DIM, 1))\n",
    "    noise = np.random.standard_normal((OUTPUT_DIM, 1)) * NOISE_AMPLITUDE\n"
   ]
  },
  {
   "cell_type": "code",
   "execution_count": 6,
   "metadata": {},
   "outputs": [
    {
     "ename": "AxisError",
     "evalue": "axis 2 is out of bounds for array of dimension 1",
     "output_type": "error",
     "traceback": [
      "\u001b[1;31m---------------------------------------------------------------------------\u001b[0m",
      "\u001b[1;31mAxisError\u001b[0m                                 Traceback (most recent call last)",
      "Cell \u001b[1;32mIn [6], line 3\u001b[0m\n\u001b[0;32m      1\u001b[0m figsize \u001b[39m=\u001b[39m (\u001b[39m1.3\u001b[39m \u001b[39m*\u001b[39m FIGSIZE, FIGSIZE)\n\u001b[0;32m      2\u001b[0m fig \u001b[39m=\u001b[39m plt\u001b[39m.\u001b[39mfigure(figsize\u001b[39m=\u001b[39mfigsize)\n\u001b[1;32m----> 3\u001b[0m state_space\u001b[39m.\u001b[39;49mplot_input_output(fig)  \u001b[39m# the state-space model can plot its inputs and outputs\u001b[39;00m\n\u001b[0;32m      4\u001b[0m fig\u001b[39m.\u001b[39mtight_layout()\n",
      "File \u001b[1;32mc:\\Users\\Ben.Kaye\\AppData\\Local\\Programs\\Python\\Python310\\lib\\site-packages\\nfoursid\\state_space.py:183\u001b[0m, in \u001b[0;36mStateSpace.plot_input_output\u001b[1;34m(self, fig)\u001b[0m\n\u001b[0;32m    180\u001b[0m ax1 \u001b[39m=\u001b[39m fig\u001b[39m.\u001b[39madd_subplot(\u001b[39m2\u001b[39m, \u001b[39m1\u001b[39m, \u001b[39m1\u001b[39m)\n\u001b[0;32m    181\u001b[0m ax2 \u001b[39m=\u001b[39m fig\u001b[39m.\u001b[39madd_subplot(\u001b[39m2\u001b[39m, \u001b[39m1\u001b[39m, \u001b[39m2\u001b[39m, sharex\u001b[39m=\u001b[39max1)\n\u001b[1;32m--> 183\u001b[0m \u001b[39mfor\u001b[39;00m output_name, outputs \u001b[39min\u001b[39;00m \u001b[39mzip\u001b[39m(\u001b[39mself\u001b[39m\u001b[39m.\u001b[39my_column_names, np\u001b[39m.\u001b[39;49marray(\u001b[39mself\u001b[39;49m\u001b[39m.\u001b[39;49mys)\u001b[39m.\u001b[39;49msqueeze(axis\u001b[39m=\u001b[39;49m\u001b[39m2\u001b[39;49m)\u001b[39m.\u001b[39mT):\n\u001b[0;32m    184\u001b[0m     ax1\u001b[39m.\u001b[39mplot(outputs, label\u001b[39m=\u001b[39moutput_name, alpha\u001b[39m=\u001b[39m\u001b[39m.6\u001b[39m)\n\u001b[0;32m    185\u001b[0m ax1\u001b[39m.\u001b[39mlegend(loc\u001b[39m=\u001b[39m\u001b[39m'\u001b[39m\u001b[39mupper right\u001b[39m\u001b[39m'\u001b[39m)\n",
      "\u001b[1;31mAxisError\u001b[0m: axis 2 is out of bounds for array of dimension 1"
     ]
    },
    {
     "data": {
      "image/png": "[encoded data removed]",
      "text/plain": [
       "<Figure size 1040x800 with 2 Axes>"
      ]
     },
     "metadata": {},
     "output_type": "display_data"
    }
   ],
   "source": [
    "\n",
    "figsize = (1.3 * FIGSIZE, FIGSIZE)\n",
    "fig = plt.figure(figsize=figsize)\n",
    "state_space.plot_input_output(fig)  # the state-space model can plot its inputs and outputs\n",
    "fig.tight_layout()\n"
   ]
  },
  {
   "cell_type": "code",
   "execution_count": 8,
   "metadata": {},
   "outputs": [
    {
     "ename": "AxisError",
     "evalue": "axis 2 is out of bounds for array of dimension 1",
     "output_type": "error",
     "traceback": [
      "\u001b[1;31m---------------------------------------------------------------------------\u001b[0m",
      "\u001b[1;31mAxisError\u001b[0m                                 Traceback (most recent call last)",
      "Cell \u001b[1;32mIn [8], line 2\u001b[0m\n\u001b[0;32m      1\u001b[0m nfoursid \u001b[39m=\u001b[39m NFourSID(\n\u001b[1;32m----> 2\u001b[0m     state_space\u001b[39m.\u001b[39;49mto_dataframe(),  \u001b[39m# the state-space model can summarize inputs and outputs as a dataframe\u001b[39;00m\n\u001b[0;32m      3\u001b[0m     output_columns\u001b[39m=\u001b[39mstate_space\u001b[39m.\u001b[39my_column_names,\n\u001b[0;32m      4\u001b[0m     input_columns\u001b[39m=\u001b[39mstate_space\u001b[39m.\u001b[39mu_column_names,\n\u001b[0;32m      5\u001b[0m     num_block_rows\u001b[39m=\u001b[39m\u001b[39m10\u001b[39m\n\u001b[0;32m      6\u001b[0m )\n\u001b[0;32m      7\u001b[0m nfoursid\u001b[39m.\u001b[39msubspace_identification()\n",
      "File \u001b[1;32mc:\\Users\\Ben.Kaye\\AppData\\Local\\Programs\\Python\\Python310\\lib\\site-packages\\nfoursid\\state_space.py:204\u001b[0m, in \u001b[0;36mStateSpace.to_dataframe\u001b[1;34m(self)\u001b[0m\n\u001b[0;32m    199\u001b[0m \u001b[39mdef\u001b[39;00m \u001b[39mto_dataframe\u001b[39m(\u001b[39mself\u001b[39m) \u001b[39m-\u001b[39m\u001b[39m>\u001b[39m pd\u001b[39m.\u001b[39mDataFrame:\n\u001b[0;32m    200\u001b[0m     \u001b[39m\"\"\"\u001b[39;00m\n\u001b[0;32m    201\u001b[0m \u001b[39m    Return the inputs and outputs of the state-space model as a dataframe, where the columns are the input-\u001b[39;00m\n\u001b[0;32m    202\u001b[0m \u001b[39m    and output-columns.\u001b[39;00m\n\u001b[0;32m    203\u001b[0m \u001b[39m    \"\"\"\u001b[39;00m\n\u001b[1;32m--> 204\u001b[0m     inputs_df \u001b[39m=\u001b[39m pd\u001b[39m.\u001b[39mDataFrame(np\u001b[39m.\u001b[39;49marray(\u001b[39mself\u001b[39;49m\u001b[39m.\u001b[39;49mus)\u001b[39m.\u001b[39;49msqueeze(axis\u001b[39m=\u001b[39;49m\u001b[39m2\u001b[39;49m), columns\u001b[39m=\u001b[39m\u001b[39mself\u001b[39m\u001b[39m.\u001b[39mu_column_names)\n\u001b[0;32m    205\u001b[0m     outputs_df \u001b[39m=\u001b[39m pd\u001b[39m.\u001b[39mDataFrame(np\u001b[39m.\u001b[39marray(\u001b[39mself\u001b[39m\u001b[39m.\u001b[39mys)\u001b[39m.\u001b[39msqueeze(axis\u001b[39m=\u001b[39m\u001b[39m2\u001b[39m), columns\u001b[39m=\u001b[39m\u001b[39mself\u001b[39m\u001b[39m.\u001b[39my_column_names)\n\u001b[0;32m    206\u001b[0m     \u001b[39mreturn\u001b[39;00m pd\u001b[39m.\u001b[39mconcat([inputs_df, outputs_df], axis\u001b[39m=\u001b[39m\u001b[39m1\u001b[39m)\n",
      "\u001b[1;31mAxisError\u001b[0m: axis 2 is out of bounds for array of dimension 1"
     ]
    }
   ],
   "source": [
    "\n",
    "nfoursid = NFourSID(\n",
    "    state_space.to_dataframe(),  # the state-space model can summarize inputs and outputs as a dataframe\n",
    "    output_columns=state_space.y_column_names,\n",
    "    input_columns=state_space.u_column_names,\n",
    "    num_block_rows=10\n",
    ")\n",
    "nfoursid.subspace_identification()\n"
   ]
  },
  {
   "cell_type": "code",
   "execution_count": null,
   "metadata": {},
   "outputs": [
    {
     "ename": "AxisError",
     "evalue": "axis 2 is out of bounds for array of dimension 1",
     "output_type": "error",
     "traceback": [
      "\u001b[1;31m---------------------------------------------------------------------------\u001b[0m",
      "\u001b[1;31mAxisError\u001b[0m                                 Traceback (most recent call last)",
      "Cell \u001b[1;32mIn [12], line 2\u001b[0m\n\u001b[0;32m      1\u001b[0m nfoursid \u001b[39m=\u001b[39m NFourSID(\n\u001b[1;32m----> 2\u001b[0m     state_space\u001b[39m.\u001b[39;49mto_dataframe(),  \u001b[39m# the state-space model can summarize inputs and outputs as a dataframe\u001b[39;00m\n\u001b[0;32m      3\u001b[0m     output_columns\u001b[39m=\u001b[39mstate_space\u001b[39m.\u001b[39my_column_names,\n\u001b[0;32m      4\u001b[0m     input_columns\u001b[39m=\u001b[39mstate_space\u001b[39m.\u001b[39mu_column_names,\n\u001b[0;32m      5\u001b[0m     num_block_rows\u001b[39m=\u001b[39m\u001b[39m10\u001b[39m\n\u001b[0;32m      6\u001b[0m )\n\u001b[0;32m      7\u001b[0m nfoursid\u001b[39m.\u001b[39msubspace_identification()\n",
      "File \u001b[1;32mc:\\Users\\Ben.Kaye\\AppData\\Local\\Programs\\Python\\Python310\\lib\\site-packages\\nfoursid\\state_space.py:204\u001b[0m, in \u001b[0;36mStateSpace.to_dataframe\u001b[1;34m(self)\u001b[0m\n\u001b[0;32m    199\u001b[0m \u001b[39mdef\u001b[39;00m \u001b[39mto_dataframe\u001b[39m(\u001b[39mself\u001b[39m) \u001b[39m-\u001b[39m\u001b[39m>\u001b[39m pd\u001b[39m.\u001b[39mDataFrame:\n\u001b[0;32m    200\u001b[0m     \u001b[39m\"\"\"\u001b[39;00m\n\u001b[0;32m    201\u001b[0m \u001b[39m    Return the inputs and outputs of the state-space model as a dataframe, where the columns are the input-\u001b[39;00m\n\u001b[0;32m    202\u001b[0m \u001b[39m    and output-columns.\u001b[39;00m\n\u001b[0;32m    203\u001b[0m \u001b[39m    \"\"\"\u001b[39;00m\n\u001b[1;32m--> 204\u001b[0m     inputs_df \u001b[39m=\u001b[39m pd\u001b[39m.\u001b[39mDataFrame(np\u001b[39m.\u001b[39;49marray(\u001b[39mself\u001b[39;49m\u001b[39m.\u001b[39;49mus)\u001b[39m.\u001b[39;49msqueeze(axis\u001b[39m=\u001b[39;49m\u001b[39m2\u001b[39;49m), columns\u001b[39m=\u001b[39m\u001b[39mself\u001b[39m\u001b[39m.\u001b[39mu_column_names)\n\u001b[0;32m    205\u001b[0m     outputs_df \u001b[39m=\u001b[39m pd\u001b[39m.\u001b[39mDataFrame(np\u001b[39m.\u001b[39marray(\u001b[39mself\u001b[39m\u001b[39m.\u001b[39mys)\u001b[39m.\u001b[39msqueeze(axis\u001b[39m=\u001b[39m\u001b[39m2\u001b[39m), columns\u001b[39m=\u001b[39m\u001b[39mself\u001b[39m\u001b[39m.\u001b[39my_column_names)\n\u001b[0;32m    206\u001b[0m     \u001b[39mreturn\u001b[39;00m pd\u001b[39m.\u001b[39mconcat([inputs_df, outputs_df], axis\u001b[39m=\u001b[39m\u001b[39m1\u001b[39m)\n",
      "\u001b[1;31mAxisError\u001b[0m: axis 2 is out of bounds for array of dimension 1"
     ]
    }
   ],
   "source": []
  }
 ],
 "metadata": {
  "kernelspec": {
   "display_name": "Python 3.10.7 64-bit",
   "language": "python",
   "name": "python3"
  },
  "language_info": {
   "codemirror_mode": {
    "name": "ipython",
    "version": 3
   },
   "file_extension": ".py",
   "mimetype": "text/x-python",
   "name": "python",
   "nbconvert_exporter": "python",
   "pygments_lexer": "ipython3",
   "version": "3.10.7"
  },
  "orig_nbformat": 4,
  "vscode": {
   "interpreter": {
    "hash": "4c32fcb3042214e18c317fa11333e48d1c75b6ea5edc2796381549cc5c3bea0c"
   }
  }
 },
 "nbformat": 4,
 "nbformat_minor": 2
}
