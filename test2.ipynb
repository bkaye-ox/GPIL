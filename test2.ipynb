{
 "cells": [
  {
   "cell_type": "code",
   "execution_count": 1,
   "metadata": {},
   "outputs": [],
   "source": [
    "import pandas as pd\n"
   ]
  },
  {
   "cell_type": "code",
   "execution_count": 2,
   "metadata": {},
   "outputs": [
    {
     "data": {
      "text/html": [
       "<div>\n",
       "<style scoped>\n",
       "    .dataframe tbody tr th:only-of-type {\n",
       "        vertical-align: middle;\n",
       "    }\n",
       "\n",
       "    .dataframe tbody tr th {\n",
       "        vertical-align: top;\n",
       "    }\n",
       "\n",
       "    .dataframe thead th {\n",
       "        text-align: right;\n",
       "    }\n",
       "</style>\n",
       "<table border=\"1\" class=\"dataframe\">\n",
       "  <thead>\n",
       "    <tr style=\"text-align: right;\">\n",
       "      <th></th>\n",
       "      <th>t</th>\n",
       "      <th>o2duty</th>\n",
       "      <th>apduty</th>\n",
       "      <th>co2pp</th>\n",
       "      <th>o2pp</th>\n",
       "    </tr>\n",
       "  </thead>\n",
       "  <tbody>\n",
       "    <tr>\n",
       "      <th>0</th>\n",
       "      <td>0.0</td>\n",
       "      <td>0.0</td>\n",
       "      <td>0.0</td>\n",
       "      <td>-0.459334</td>\n",
       "      <td>0.444944</td>\n",
       "    </tr>\n",
       "    <tr>\n",
       "      <th>1</th>\n",
       "      <td>1.0</td>\n",
       "      <td>0.0</td>\n",
       "      <td>0.0</td>\n",
       "      <td>-0.459334</td>\n",
       "      <td>0.444944</td>\n",
       "    </tr>\n",
       "    <tr>\n",
       "      <th>2</th>\n",
       "      <td>2.0</td>\n",
       "      <td>0.0</td>\n",
       "      <td>0.0</td>\n",
       "      <td>-0.459334</td>\n",
       "      <td>0.444944</td>\n",
       "    </tr>\n",
       "    <tr>\n",
       "      <th>3</th>\n",
       "      <td>3.0</td>\n",
       "      <td>0.0</td>\n",
       "      <td>0.0</td>\n",
       "      <td>-0.459334</td>\n",
       "      <td>0.444944</td>\n",
       "    </tr>\n",
       "    <tr>\n",
       "      <th>4</th>\n",
       "      <td>4.0</td>\n",
       "      <td>0.0</td>\n",
       "      <td>0.0</td>\n",
       "      <td>-0.459334</td>\n",
       "      <td>0.444944</td>\n",
       "    </tr>\n",
       "  </tbody>\n",
       "</table>\n",
       "</div>"
      ],
      "text/plain": [
       "     t  o2duty  apduty     co2pp      o2pp\n",
       "0  0.0     0.0     0.0 -0.459334  0.444944\n",
       "1  1.0     0.0     0.0 -0.459334  0.444944\n",
       "2  2.0     0.0     0.0 -0.459334  0.444944\n",
       "3  3.0     0.0     0.0 -0.459334  0.444944\n",
       "4  4.0     0.0     0.0 -0.459334  0.444944"
      ]
     },
     "execution_count": 2,
     "metadata": {},
     "output_type": "execute_result"
    }
   ],
   "source": [
    "df = pd.read_feather('dp_df.feather')\n",
    "df.head()"
   ]
  },
  {
   "cell_type": "code",
   "execution_count": 3,
   "metadata": {},
   "outputs": [],
   "source": [
    "Y = df['o2pp']"
   ]
  },
  {
   "cell_type": "code",
   "execution_count": null,
   "metadata": {},
   "outputs": [],
   "source": []
  },
  {
   "cell_type": "code",
   "execution_count": 4,
   "metadata": {},
   "outputs": [
    {
     "ename": "TypeError",
     "evalue": "NFourSID.__init__() missing 1 required positional argument: 'output_columns'",
     "output_type": "error",
     "traceback": [
      "\u001b[1;31m---------------------------------------------------------------------------\u001b[0m",
      "\u001b[1;31mTypeError\u001b[0m                                 Traceback (most recent call last)",
      "Cell \u001b[1;32mIn [4], line 2\u001b[0m\n\u001b[0;32m      1\u001b[0m \u001b[39mimport\u001b[39;00m \u001b[39mgpil2\u001b[39;00m\n\u001b[1;32m----> 2\u001b[0m gpil2\u001b[39m.\u001b[39;49mn4sid_lv(Y\u001b[39m=\u001b[39;49mY, M_dim\u001b[39m=\u001b[39;49m\u001b[39m4\u001b[39;49m)\n",
      "File \u001b[1;32mc:\\Users\\Ben.Kaye\\OneDrive - OrganOx Ltd\\Documents\\Python Projects\\GPIL Implementation\\gpil2.py:47\u001b[0m, in \u001b[0;36mn4sid_lv\u001b[1;34m(Y, M_dim)\u001b[0m\n\u001b[0;32m     46\u001b[0m \u001b[39mdef\u001b[39;00m \u001b[39mn4sid_lv\u001b[39m(\u001b[39m*\u001b[39m, Y, M_dim):\n\u001b[1;32m---> 47\u001b[0m     n4sid \u001b[39m=\u001b[39m nfoursid\u001b[39m.\u001b[39;49mnfoursid\u001b[39m.\u001b[39;49mNFourSID(Y)\n\u001b[0;32m     48\u001b[0m     ss, cov \u001b[39m=\u001b[39m n4sid\u001b[39m.\u001b[39msysid(rank\u001b[39m=\u001b[39mM_dim)\n\u001b[0;32m     49\u001b[0m     kalman \u001b[39m=\u001b[39m nfoursid\u001b[39m.\u001b[39mkalman\u001b[39m.\u001b[39mKalman(ss,cov)\n",
      "\u001b[1;31mTypeError\u001b[0m: NFourSID.__init__() missing 1 required positional argument: 'output_columns'"
     ]
    }
   ],
   "source": [
    "import gpil2\n",
    "gpil2.n4sid_lv(Y=Y, M_dim=4)"
   ]
  }
 ],
 "metadata": {
  "kernelspec": {
   "display_name": "Python 3.10.7 64-bit",
   "language": "python",
   "name": "python3"
  },
  "language_info": {
   "codemirror_mode": {
    "name": "ipython",
    "version": 3
   },
   "file_extension": ".py",
   "mimetype": "text/x-python",
   "name": "python",
   "nbconvert_exporter": "python",
   "pygments_lexer": "ipython3",
   "version": "3.10.7"
  },
  "orig_nbformat": 4,
  "vscode": {
   "interpreter": {
    "hash": "4c32fcb3042214e18c317fa11333e48d1c75b6ea5edc2796381549cc5c3bea0c"
   }
  }
 },
 "nbformat": 4,
 "nbformat_minor": 2
}
